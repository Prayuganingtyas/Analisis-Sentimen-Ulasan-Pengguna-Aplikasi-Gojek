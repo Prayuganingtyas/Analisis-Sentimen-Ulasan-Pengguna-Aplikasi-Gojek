{
  "nbformat": 4,
  "nbformat_minor": 0,
  "metadata": {
    "colab": {
      "provenance": []
    },
    "kernelspec": {
      "name": "python3",
      "display_name": "Python 3"
    },
    "language_info": {
      "name": "python"
    }
  },
  "cells": [
    {
      "cell_type": "code",
      "execution_count": 78,
      "metadata": {
        "id": "EGUaE7OVVs2A"
      },
      "outputs": [],
      "source": [
        "import pickle\n",
        "import numpy as np\n",
        "from tensorflow.keras.models import load_model\n",
        "from tensorflow.keras.preprocessing.text import Tokenizer\n",
        "from tensorflow.keras.preprocessing.sequence import pad_sequences"
      ]
    },
    {
      "cell_type": "markdown",
      "source": [
        "## Mempersiapkan Model dan Encoder"
      ],
      "metadata": {
        "id": "_dOP94TNwjGW"
      }
    },
    {
      "cell_type": "code",
      "source": [
        "model = load_model('best_sentiment_model2.h5')\n",
        "\n",
        "with open('tokenizer.pkl', 'rb') as f:\n",
        "    tokenizer = pickle.load(f)\n",
        "\n",
        "with open('label_encoder.pkl', 'rb') as f:\n",
        "    le = pickle.load(f)"
      ],
      "metadata": {
        "id": "fjcWCYdl6U62",
        "outputId": "5760384b-a705-43ce-a2e0-f412f5e8c54f",
        "colab": {
          "base_uri": "https://localhost:8080/"
        }
      },
      "execution_count": 76,
      "outputs": [
        {
          "output_type": "stream",
          "name": "stderr",
          "text": [
            "WARNING:absl:Compiled the loaded model, but the compiled metrics have yet to be built. `model.compile_metrics` will be empty until you train or evaluate the model.\n"
          ]
        }
      ]
    },
    {
      "cell_type": "markdown",
      "source": [
        "## Prediksi Sentimen Ulasan Aplikasi Menggunakan Model yang Sudah Dilatih"
      ],
      "metadata": {
        "id": "pKL8Bc-mw4Y8"
      }
    },
    {
      "cell_type": "code",
      "source": [
        "texts = [\n",
        "    \"Layanannya sangat membantu dan cepat\",\n",
        "    \"Sangat jelek banget aplikasi terbaru\",\n",
        "    \"Lemot, saya mau log in lama banget loadingnya\",\n",
        "    \"Aplikasi andalan, sangat mudah dipahami fiturnya\",\n",
        "]\n",
        "\n",
        "seqs = tokenizer.texts_to_sequences(texts)\n",
        "padded = pad_sequences(seqs, maxlen=100, padding='post')\n",
        "preds = model.predict(padded)\n",
        "labels = le.inverse_transform(np.argmax(preds, axis=1))\n",
        "\n",
        "for t, l in zip(texts, labels):\n",
        "    print(f\"Teks: '{t}' => Sentimen: {l}\")"
      ],
      "metadata": {
        "colab": {
          "base_uri": "https://localhost:8080/"
        },
        "id": "_2J8iW_sVxjr",
        "outputId": "dfb07498-3ddc-42ed-cf5b-bdc7b7e91c37"
      },
      "execution_count": 77,
      "outputs": [
        {
          "output_type": "stream",
          "name": "stdout",
          "text": [
            "\u001b[1m1/1\u001b[0m \u001b[32m━━━━━━━━━━━━━━━━━━━━\u001b[0m\u001b[37m\u001b[0m \u001b[1m1s\u001b[0m 970ms/step\n",
            "Teks: 'Layanannya sangat membantu dan cepat' => Sentimen: positif\n",
            "Teks: 'Sangat jelek banget aplikasi terbaru' => Sentimen: negatif\n",
            "Teks: 'Lemot, saya mau log in lama banget loadingnya' => Sentimen: negatif\n",
            "Teks: 'Aplikasi andalan, sangat mudah dipahami fiturnya' => Sentimen: positif\n"
          ]
        }
      ]
    },
    {
      "cell_type": "markdown",
      "source": [
        "# KESIMPULAN\n",
        "\n",
        "- Ulasan Positif:\n",
        "\n",
        "\"Layanannya sangat membantu dan cepat\" = Sentimen positif\n",
        "\n",
        "\"Aplikasi andalan, sangat mudah dipahami fiturnya\" = Sentimen positif\n",
        "\n",
        "Kedua ulasan ini memiliki kata-kata yang menunjukkan kepuasan pengguna terhadap aplikasi, seperti \"sangat membantu,\" \"cepat,\" dan \"mudah dipahami.\"\n",
        "\n",
        "- Ulasan Negatif:\n",
        "\n",
        "\"Sangat jelek banget aplikasi terbaru\" = Sentimen negatif\n",
        "\n",
        "\"Lemot, saya mau log in lama banget loadingnya\" = Sentimen negatif\n",
        "\n",
        "Kedua ulasan ini menunjukkan ketidakpuasan dengan aplikasi, menggunakan kata-kata seperti \"jelek,\" \"lemot,\" dan \"loadingnya lama.\""
      ],
      "metadata": {
        "id": "UUaAryM6xEmU"
      }
    }
  ]
}